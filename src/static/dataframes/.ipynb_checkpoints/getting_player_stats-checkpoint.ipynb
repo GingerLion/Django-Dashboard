{
 "cells": [
  {
   "cell_type": "code",
   "execution_count": 119,
   "metadata": {},
   "outputs": [],
   "source": [
    "import pandas as pd\n",
    "import requests as r\n",
    "from bs4 import BeautifulSoup\n",
    "from copy import deepcopy"
   ]
  },
  {
   "cell_type": "code",
   "execution_count": 136,
   "metadata": {},
   "outputs": [],
   "source": [
    "pi_df = pd.read_csv(\"pl_players_info.csv\")\n",
    "url = \"https://www.premierleague.com/players/{}/player/stats\"\n",
    "\n",
    "# GETTERS \n",
    "def get_player_page(url,id_no):\n",
    "    soup = BeautifulSoup(r.get(url.format(id_no)).content,'html.parser')\n",
    "    return soup.find_all(\"span\",{\"class\":\"stat\"})\n",
    "\n",
    "def get_pl_id(name):\n",
    "    df = pd.read_csv(\"pl_players_info.csv\")\n",
    "    return int(df[df['Name']==name]['id'])\n",
    "        \n",
    "    \n",
    "# CLEANERS\n",
    "def clean_player_page(stats):\n",
    "    # extract stat names and values from raw html\n",
    "    names_and_values = []\n",
    "    for t in stats:\n",
    "        names_and_values.append(t.text.strip())\n",
    "    \n",
    "    # filter out stat titles such as 'Attack', 'Defence', 'Discipline'\n",
    "    names_and_values = list(filter(lambda x: '\\n' in x,names_and_values))\n",
    "\n",
    "    # split into stat name and value\n",
    "    names_and_values = list(map(lambda x: x.split('\\n'),names_and_values))\n",
    "    \n",
    "    # remove whitespace and convert to dict\n",
    "    stats_dict = {t[0].strip():t[1].strip() for t in names_and_values}\n",
    "\n",
    "    # convert percentage values to a range between [0,1]\n",
    "    for key, val in stats_dict.items():\n",
    "        if '%' in val:\n",
    "            stats_dict[key] = str(int(val.strip('%'))/100)\n",
    "    \n",
    "    return stats_dict"
   ]
  },
  {
   "cell_type": "code",
   "execution_count": 137,
   "metadata": {},
   "outputs": [],
   "source": [
    "player_data = clean_player_page(get_player_page(url,get_pl_id(\"Harry Kane\")))"
   ]
  },
  {
   "cell_type": "code",
   "execution_count": 138,
   "metadata": {},
   "outputs": [
    {
     "data": {
      "text/plain": [
       "{'Appearances': '201',\n",
       " 'Assists': '20',\n",
       " 'Big chances created': '32',\n",
       " 'Big chances missed': '81',\n",
       " 'Blocked shots': '183',\n",
       " 'Clearances': '133',\n",
       " 'Crosses': '175',\n",
       " 'Fouls': '196',\n",
       " 'Freekicks scored': '1',\n",
       " 'Goals': '136',\n",
       " 'Goals per match': '0.68',\n",
       " 'Goals with left foot': '31',\n",
       " 'Goals with right foot': '84',\n",
       " 'Headed Clearance': '97',\n",
       " 'Headed goals': '20',\n",
       " 'Hit woodwork': '22',\n",
       " 'Interceptions': '58',\n",
       " 'Losses': '46',\n",
       " 'Offsides': '152',\n",
       " 'Passes': '4,216',\n",
       " 'Passes per match': '20.98',\n",
       " 'Penalties scored': '20',\n",
       " 'Red cards': '0',\n",
       " 'Shooting accuracy %': '0.45',\n",
       " 'Shots': '754',\n",
       " 'Shots on target': '339',\n",
       " 'Tackles': '131',\n",
       " 'Wins': '114',\n",
       " 'Yellow cards': '24'}"
      ]
     },
     "execution_count": 138,
     "metadata": {},
     "output_type": "execute_result"
    }
   ],
   "source": [
    "player_data"
   ]
  },
  {
   "cell_type": "code",
   "execution_count": 130,
   "metadata": {},
   "outputs": [],
   "source": [
    "pi_df = pd.read_csv(\"pl_players_info.csv\")"
   ]
  },
  {
   "cell_type": "code",
   "execution_count": 131,
   "metadata": {},
   "outputs": [
    {
     "data": {
      "text/plain": [
       "Index(['id', 'Club', 'Country', 'Dob', 'Name', 'Shirtnum', 'Role'], dtype='object')"
      ]
     },
     "execution_count": 131,
     "metadata": {},
     "output_type": "execute_result"
    }
   ],
   "source": [
    "pi_df.columns"
   ]
  },
  {
   "cell_type": "code",
   "execution_count": 135,
   "metadata": {},
   "outputs": [
    {
     "data": {
      "text/plain": [
       "3960"
      ]
     },
     "execution_count": 135,
     "metadata": {},
     "output_type": "execute_result"
    }
   ],
   "source": [
    "int(pi_df[pi_df['Name']==\"Harry Kane\"]['id'])"
   ]
  },
  {
   "cell_type": "code",
   "execution_count": null,
   "metadata": {},
   "outputs": [],
   "source": []
  }
 ],
 "metadata": {
  "kernelspec": {
   "display_name": "Python(my_env)",
   "language": "python",
   "name": "myenv"
  },
  "language_info": {
   "codemirror_mode": {
    "name": "ipython",
    "version": 3
   },
   "file_extension": ".py",
   "mimetype": "text/x-python",
   "name": "python",
   "nbconvert_exporter": "python",
   "pygments_lexer": "ipython3",
   "version": "3.6.4"
  }
 },
 "nbformat": 4,
 "nbformat_minor": 2
}
