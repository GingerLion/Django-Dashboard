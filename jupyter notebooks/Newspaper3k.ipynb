{
 "cells": [
  {
   "cell_type": "code",
   "execution_count": 269,
   "metadata": {},
   "outputs": [],
   "source": [
    "import nltk\n",
    "from newspaper import Article\n",
    "from grammarbot import GrammarBotClient\n",
    "import re\n",
    "\n",
    "def clean_article(url):\n",
    "\n",
    "    article = Article(url)\n",
    "    article.download()\n",
    "    article.parse()\n",
    "    nltk.download('punkt')\n",
    "    article.nlp()\n",
    "    a = ','.join([i for i in article.summary.split(\"\\n\") if 'Ones to watch' not in i and not re.search(':',i) and not re.search('\\\\[a-z][0-9]*$',i)])\n",
    "    pattern = '([a-z]|[0-9])+[A-Z]+'\n",
    "    match = re.search(pattern,a)\n",
    "    span = match.span()\n",
    "    #print(a[span[0]:span[1]])\n",
    "    after_match1 = a[:(span[1]-1)] + '. ' + a[(span[1]-1):]\n",
    "    after_match2 = re.findall('.*?[.!\\?]',after_match1)\n",
    "    final_text_arr = []\n",
    "    for s in after_match2:\n",
    "        if not s[0].isalpha():\n",
    "            final_text_arr.append(s.replace(s[0],'',1))\n",
    "        else:\n",
    "            final_text_arr.append(s)\n",
    "\n",
    "    return {'title': article.title, 'summary': ' '.join(final_text_arr)}"
   ]
  },
  {
   "cell_type": "code",
   "execution_count": 271,
   "metadata": {},
   "outputs": [
    {
     "name": "stdout",
     "output_type": "stream",
     "text": [
      "nglandF\n"
     ]
    },
    {
     "name": "stderr",
     "output_type": "stream",
     "text": [
      "[nltk_data] Downloading package punkt to\n",
      "[nltk_data]     C:\\Users\\dillo\\AppData\\Roaming\\nltk_data...\n",
      "[nltk_data]   Package punkt is already up-to-date!\n"
     ]
    },
    {
     "data": {
      "text/plain": [
       "{'title': 'Premier League, FA, EFL and WSL unite to postpone fixtures',\n",
       " 'summary': 'Premier League, FA, EFL and WSL have collectively agreed to postpone the professional game in England. Following a meeting of Shareholders today, it was unanimously decided to suspend the Premier League with the intention of returning on 4 April, subject to medical advice and conditions at the time. \"In this unprecedented situation, we are working closely with our clubs, Government, The FA and EFL and can reassure everyone the health and welfare of players, staff and supporters are our priority. ,Despite the challenges, it is the Premier League\\'s aim to reschedule the displaced fixtures, including those played by Academy sides, when it is safe to do so. In this fast-moving environment, further updates will be provided when appropriate.'}"
      ]
     },
     "execution_count": 271,
     "metadata": {},
     "output_type": "execute_result"
    }
   ],
   "source": [
    "clean_article(\"https://premierleague.com/news/1645173\")"
   ]
  },
  {
   "cell_type": "code",
   "execution_count": 273,
   "metadata": {},
   "outputs": [
    {
     "data": {
      "text/plain": [
       "'https://resources.premierleague.com/premierleague/photo/2020/03/13/38d734e1-2572-4213-a8ac-8ca1b8c5e306/Statement_Graphic_PL_FA_EFL_Lilac.png'"
      ]
     },
     "execution_count": 273,
     "metadata": {},
     "output_type": "execute_result"
    }
   ],
   "source": [
    "article = Article(\"https://premierleague.com/news/1645173\")\n",
    "article.download()\n",
    "article.parse()\n",
    "article.top_image"
   ]
  },
  {
   "cell_type": "code",
   "execution_count": null,
   "metadata": {},
   "outputs": [],
   "source": []
  },
  {
   "cell_type": "code",
   "execution_count": null,
   "metadata": {},
   "outputs": [],
   "source": []
  }
 ],
 "metadata": {
  "kernelspec": {
   "display_name": "Python 3",
   "language": "python",
   "name": "python3"
  },
  "language_info": {
   "codemirror_mode": {
    "name": "ipython",
    "version": 3
   },
   "file_extension": ".py",
   "mimetype": "text/x-python",
   "name": "python",
   "nbconvert_exporter": "python",
   "pygments_lexer": "ipython3",
   "version": "3.8.2"
  }
 },
 "nbformat": 4,
 "nbformat_minor": 4
}
