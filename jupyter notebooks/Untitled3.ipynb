{
 "cells": [
  {
   "cell_type": "code",
   "execution_count": 1,
   "metadata": {},
   "outputs": [],
   "source": [
    "from bs4 import BeautifulSoup\n",
    "import requests as r"
   ]
  },
  {
   "cell_type": "code",
   "execution_count": 2,
   "metadata": {},
   "outputs": [],
   "source": [
    "content = r.get(\"https://premierleague.com/news\").content\n",
    "soup = BeautifulSoup(content,'html.parser')\n",
    "articles = soup.find_all(\"section\",{\"class\":\"featuredArticle\"})"
   ]
  },
  {
   "cell_type": "code",
   "execution_count": 5,
   "metadata": {},
   "outputs": [
    {
     "name": "stdout",
     "output_type": "stream",
     "text": [
      "/news/1646508\n",
      "/news/1644272\n",
      "/news/1644237\n",
      "/news/1646351\n",
      "/news/1645846\n",
      "/news/1646317\n",
      "/news/1646241\n",
      "/news/1636662\n",
      "/news/1646111\n",
      "https://www.premierleague.com/coronavirus\n"
     ]
    }
   ],
   "source": [
    "for item in articles:\n",
    "    print(item.find(\"a\",{\"class\":\"thumbnail thumbLong\"})['href'])"
   ]
  },
  {
   "cell_type": "code",
   "execution_count": null,
   "metadata": {},
   "outputs": [],
   "source": []
  }
 ],
 "metadata": {
  "kernelspec": {
   "display_name": "Python 3",
   "language": "python",
   "name": "python3"
  },
  "language_info": {
   "codemirror_mode": {
    "name": "ipython",
    "version": 3
   },
   "file_extension": ".py",
   "mimetype": "text/x-python",
   "name": "python",
   "nbconvert_exporter": "python",
   "pygments_lexer": "ipython3",
   "version": "3.8.2"
  }
 },
 "nbformat": 4,
 "nbformat_minor": 4
}
