{
 "cells": [
  {
   "cell_type": "code",
   "execution_count": 1,
   "metadata": {},
   "outputs": [],
   "source": [
    "import requests\n",
    "from bs4 import BeautifulSoup\n",
    "import re"
   ]
  },
  {
   "cell_type": "code",
   "execution_count": 10,
   "metadata": {},
   "outputs": [],
   "source": [
    "url = \"http://premierleague.com/tables\""
   ]
  },
  {
   "cell_type": "code",
   "execution_count": 11,
   "metadata": {},
   "outputs": [],
   "source": [
    "content_ = requests.get(url).content\n",
    "soup = BeautifulSoup(content_,'html.parser')"
   ]
  },
  {
   "cell_type": "markdown",
   "metadata": {},
   "source": [
    "# Scraping premier league table data  (comp-season=274)"
   ]
  },
  {
   "cell_type": "code",
   "execution_count": 34,
   "metadata": {},
   "outputs": [],
   "source": [
    "\n",
    "tables = soup.find_all(\"tr\",{\"data-compseason\":\"274\"})\n",
    "tbody_data = []\n",
    "thead_data = getHeadingsAndAbbreviations()\n",
    "for index, row in enumerate(tables):\n",
    "    a = str([tr for tr in row])\n",
    "    s = BeautifulSoup(a,'html.parser')\n",
    "    tds = s.find_all(\"td\")\n",
    "    almost = [t.text.replace('\\n',\"\").strip() for t in tds][2:-2]\n",
    "    pattern = '([a-z]|[0-9])[A-Z]'\n",
    "    if re.search(pattern,almost[0]):\n",
    "        span = re.search(pattern,almost[0]).span()\n",
    "        after = (almost[0][:(span[1]-1)],almost[0][(span[1]-1):].strip())\n",
    "        final = [*[after],*almost[1:]]\n",
    "        tbody_data.append({ key: value for (key,value) in zip(thead_data,final)})"
   ]
  },
  {
   "cell_type": "code",
   "execution_count": 138,
   "metadata": {},
   "outputs": [
    {
     "data": {
      "text/plain": [
       "[{('Club', 'Club'): ('Liverpool', 'LIV'),\n",
       "  ('Played', 'Pl'): '29',\n",
       "  ('Won', 'W'): '27',\n",
       "  ('Drawn', 'D'): '1',\n",
       "  ('Lost', 'L'): '1',\n",
       "  ('GF', 'GF'): '66',\n",
       "  ('GA', 'GA'): '21',\n",
       "  ('GD', 'GD'): '+45',\n",
       "  ('Points', 'Pts'): '82'},\n",
       " {('Club', 'Club'): ('Manchester City', 'MCI'),\n",
       "  ('Played', 'Pl'): '28',\n",
       "  ('Won', 'W'): '18',\n",
       "  ('Drawn', 'D'): '3',\n",
       "  ('Lost', 'L'): '7',\n",
       "  ('GF', 'GF'): '68',\n",
       "  ('GA', 'GA'): '31',\n",
       "  ('GD', 'GD'): '+37',\n",
       "  ('Points', 'Pts'): '57'},\n",
       " {('Club', 'Club'): ('Leicester City', 'LEI'),\n",
       "  ('Played', 'Pl'): '29',\n",
       "  ('Won', 'W'): '16',\n",
       "  ('Drawn', 'D'): '5',\n",
       "  ('Lost', 'L'): '8',\n",
       "  ('GF', 'GF'): '58',\n",
       "  ('GA', 'GA'): '28',\n",
       "  ('GD', 'GD'): '+30',\n",
       "  ('Points', 'Pts'): '53'},\n",
       " {('Club', 'Club'): ('Chelsea', 'CHE'),\n",
       "  ('Played', 'Pl'): '29',\n",
       "  ('Won', 'W'): '14',\n",
       "  ('Drawn', 'D'): '6',\n",
       "  ('Lost', 'L'): '9',\n",
       "  ('GF', 'GF'): '51',\n",
       "  ('GA', 'GA'): '39',\n",
       "  ('GD', 'GD'): '+12',\n",
       "  ('Points', 'Pts'): '48'},\n",
       " {('Club', 'Club'): ('Manchester United', 'MUN'),\n",
       "  ('Played', 'Pl'): '29',\n",
       "  ('Won', 'W'): '12',\n",
       "  ('Drawn', 'D'): '9',\n",
       "  ('Lost', 'L'): '8',\n",
       "  ('GF', 'GF'): '44',\n",
       "  ('GA', 'GA'): '30',\n",
       "  ('GD', 'GD'): '+14',\n",
       "  ('Points', 'Pts'): '45'},\n",
       " {('Club', 'Club'): ('Wolverhampton Wanderers', 'WOL'),\n",
       "  ('Played', 'Pl'): '29',\n",
       "  ('Won', 'W'): '10',\n",
       "  ('Drawn', 'D'): '13',\n",
       "  ('Lost', 'L'): '6',\n",
       "  ('GF', 'GF'): '41',\n",
       "  ('GA', 'GA'): '34',\n",
       "  ('GD', 'GD'): '+7',\n",
       "  ('Points', 'Pts'): '43'},\n",
       " {('Club', 'Club'): ('Sheffield United', 'SHU'),\n",
       "  ('Played', 'Pl'): '28',\n",
       "  ('Won', 'W'): '11',\n",
       "  ('Drawn', 'D'): '10',\n",
       "  ('Lost', 'L'): '7',\n",
       "  ('GF', 'GF'): '30',\n",
       "  ('GA', 'GA'): '25',\n",
       "  ('GD', 'GD'): '+5',\n",
       "  ('Points', 'Pts'): '43'},\n",
       " {('Club', 'Club'): ('Tottenham Hotspur', 'TOT'),\n",
       "  ('Played', 'Pl'): '29',\n",
       "  ('Won', 'W'): '11',\n",
       "  ('Drawn', 'D'): '8',\n",
       "  ('Lost', 'L'): '10',\n",
       "  ('GF', 'GF'): '47',\n",
       "  ('GA', 'GA'): '40',\n",
       "  ('GD', 'GD'): '+7',\n",
       "  ('Points', 'Pts'): '41'},\n",
       " {('Club', 'Club'): ('Arsenal', 'ARS'),\n",
       "  ('Played', 'Pl'): '28',\n",
       "  ('Won', 'W'): '9',\n",
       "  ('Drawn', 'D'): '13',\n",
       "  ('Lost', 'L'): '6',\n",
       "  ('GF', 'GF'): '40',\n",
       "  ('GA', 'GA'): '36',\n",
       "  ('GD', 'GD'): '+4',\n",
       "  ('Points', 'Pts'): '40'},\n",
       " {('Club', 'Club'): ('Burnley', 'BUR'),\n",
       "  ('Played', 'Pl'): '29',\n",
       "  ('Won', 'W'): '11',\n",
       "  ('Drawn', 'D'): '6',\n",
       "  ('Lost', 'L'): '12',\n",
       "  ('GF', 'GF'): '34',\n",
       "  ('GA', 'GA'): '40',\n",
       "  ('GD', 'GD'): '-6',\n",
       "  ('Points', 'Pts'): '39'},\n",
       " {('Club', 'Club'): ('Crystal Palace', 'CRY'),\n",
       "  ('Played', 'Pl'): '29',\n",
       "  ('Won', 'W'): '10',\n",
       "  ('Drawn', 'D'): '9',\n",
       "  ('Lost', 'L'): '10',\n",
       "  ('GF', 'GF'): '26',\n",
       "  ('GA', 'GA'): '32',\n",
       "  ('GD', 'GD'): '-6',\n",
       "  ('Points', 'Pts'): '39'},\n",
       " {('Club', 'Club'): ('Everton', 'EVE'),\n",
       "  ('Played', 'Pl'): '29',\n",
       "  ('Won', 'W'): '10',\n",
       "  ('Drawn', 'D'): '7',\n",
       "  ('Lost', 'L'): '12',\n",
       "  ('GF', 'GF'): '37',\n",
       "  ('GA', 'GA'): '46',\n",
       "  ('GD', 'GD'): '-9',\n",
       "  ('Points', 'Pts'): '37'},\n",
       " {('Club', 'Club'): ('Newcastle United', 'NEW'),\n",
       "  ('Played', 'Pl'): '29',\n",
       "  ('Won', 'W'): '9',\n",
       "  ('Drawn', 'D'): '8',\n",
       "  ('Lost', 'L'): '12',\n",
       "  ('GF', 'GF'): '25',\n",
       "  ('GA', 'GA'): '41',\n",
       "  ('GD', 'GD'): '-16',\n",
       "  ('Points', 'Pts'): '35'},\n",
       " {('Club', 'Club'): ('Southampton', 'SOU'),\n",
       "  ('Played', 'Pl'): '29',\n",
       "  ('Won', 'W'): '10',\n",
       "  ('Drawn', 'D'): '4',\n",
       "  ('Lost', 'L'): '15',\n",
       "  ('GF', 'GF'): '35',\n",
       "  ('GA', 'GA'): '52',\n",
       "  ('GD', 'GD'): '-17',\n",
       "  ('Points', 'Pts'): '34'},\n",
       " {('Club', 'Club'): ('Brighton and Hove Albion', 'BHA'),\n",
       "  ('Played', 'Pl'): '29',\n",
       "  ('Won', 'W'): '6',\n",
       "  ('Drawn', 'D'): '11',\n",
       "  ('Lost', 'L'): '12',\n",
       "  ('GF', 'GF'): '32',\n",
       "  ('GA', 'GA'): '40',\n",
       "  ('GD', 'GD'): '-8',\n",
       "  ('Points', 'Pts'): '29'},\n",
       " {('Club', 'Club'): ('West Ham United', 'WHU'),\n",
       "  ('Played', 'Pl'): '29',\n",
       "  ('Won', 'W'): '7',\n",
       "  ('Drawn', 'D'): '6',\n",
       "  ('Lost', 'L'): '16',\n",
       "  ('GF', 'GF'): '35',\n",
       "  ('GA', 'GA'): '50',\n",
       "  ('GD', 'GD'): '-15',\n",
       "  ('Points', 'Pts'): '27'},\n",
       " {('Club', 'Club'): ('Watford', 'WAT'),\n",
       "  ('Played', 'Pl'): '29',\n",
       "  ('Won', 'W'): '6',\n",
       "  ('Drawn', 'D'): '9',\n",
       "  ('Lost', 'L'): '14',\n",
       "  ('GF', 'GF'): '27',\n",
       "  ('GA', 'GA'): '44',\n",
       "  ('GD', 'GD'): '-17',\n",
       "  ('Points', 'Pts'): '27'},\n",
       " {('Club', 'Club'): ('Bournemouth', 'BOU'),\n",
       "  ('Played', 'Pl'): '29',\n",
       "  ('Won', 'W'): '7',\n",
       "  ('Drawn', 'D'): '6',\n",
       "  ('Lost', 'L'): '16',\n",
       "  ('GF', 'GF'): '29',\n",
       "  ('GA', 'GA'): '47',\n",
       "  ('GD', 'GD'): '-18',\n",
       "  ('Points', 'Pts'): '27'},\n",
       " {('Club', 'Club'): ('Aston Villa', 'AVL'),\n",
       "  ('Played', 'Pl'): '28',\n",
       "  ('Won', 'W'): '7',\n",
       "  ('Drawn', 'D'): '4',\n",
       "  ('Lost', 'L'): '17',\n",
       "  ('GF', 'GF'): '34',\n",
       "  ('GA', 'GA'): '56',\n",
       "  ('GD', 'GD'): '-22',\n",
       "  ('Points', 'Pts'): '25'},\n",
       " {('Club', 'Club'): ('Norwich City', 'NOR'),\n",
       "  ('Played', 'Pl'): '29',\n",
       "  ('Won', 'W'): '5',\n",
       "  ('Drawn', 'D'): '6',\n",
       "  ('Lost', 'L'): '18',\n",
       "  ('GF', 'GF'): '25',\n",
       "  ('GA', 'GA'): '52',\n",
       "  ('GD', 'GD'): '-27',\n",
       "  ('Points', 'Pts'): '21'}]"
      ]
     },
     "execution_count": 138,
     "metadata": {},
     "output_type": "execute_result"
    }
   ],
   "source": [
    "tbody_data"
   ]
  },
  {
   "cell_type": "markdown",
   "metadata": {},
   "source": [
    "# Scraping Column Headings and their shortened forms"
   ]
  },
  {
   "cell_type": "code",
   "execution_count": 130,
   "metadata": {
    "scrolled": true
   },
   "outputs": [],
   "source": []
  },
  {
   "cell_type": "code",
   "execution_count": 140,
   "metadata": {},
   "outputs": [],
   "source": [
    "\n",
    "def getHeadingsAndAbbreviations():\n",
    "    thead = soup.find_all(\"thead\")\n",
    "    th_soup = BeautifulSoup(str(thead[0]),'html.parser')\n",
    "    ths = th_soup.find_all(\"th\",{\"scope\":\"col\"})\n",
    "    almost_ = [th.text.replace('\\n',\"\") for th in ths][2:-2]\n",
    "\n",
    "    pattern = '([a-z]|[0-9])[A-Z]'\n",
    "    final_ = []\n",
    "    for i in almost_:\n",
    "        # if i has a shorter version, ignore it / cut it out\n",
    "        if re.search(pattern,i):\n",
    "            # get start and end indices of where the pattern matches from span\n",
    "            span = re.search(pattern,i).span()\n",
    "            final_.append(i[:(span[1]-1)])\n",
    "        # else just add it\n",
    "        else:\n",
    "            final_.append(i)\n",
    "    return final_"
   ]
  },
  {
   "cell_type": "code",
   "execution_count": 141,
   "metadata": {},
   "outputs": [
    {
     "data": {
      "text/plain": [
       "['Club', 'Played', 'Won', 'Drawn', 'Lost', 'GF', 'GA', 'GD', 'Points']"
      ]
     },
     "execution_count": 141,
     "metadata": {},
     "output_type": "execute_result"
    }
   ],
   "source": [
    "getHeadingsAndAbbreviations()"
   ]
  },
  {
   "cell_type": "code",
   "execution_count": null,
   "metadata": {},
   "outputs": [],
   "source": []
  }
 ],
 "metadata": {
  "kernelspec": {
   "display_name": "Python 3",
   "language": "python",
   "name": "python3"
  },
  "language_info": {
   "codemirror_mode": {
    "name": "ipython",
    "version": 3
   },
   "file_extension": ".py",
   "mimetype": "text/x-python",
   "name": "python",
   "nbconvert_exporter": "python",
   "pygments_lexer": "ipython3",
   "version": "3.8.2"
  }
 },
 "nbformat": 4,
 "nbformat_minor": 4
}
