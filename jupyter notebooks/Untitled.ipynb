{
 "cells": [
  {
   "cell_type": "code",
   "execution_count": 2,
   "metadata": {},
   "outputs": [],
   "source": [
    "import pandas as pd\n",
    "import requests as r\n",
    "from bs4 import BeautifulSoup\n",
    "\n",
    "# GETTERS \n",
    "def get_player_stats(url,id_no):\n",
    "    soup = BeautifulSoup(r.get(url.format(id_no)).content,'html.parser')\n",
    "    return soup.find_all(\"span\",{\"class\":\"stat\"})\n",
    "\n",
    "def get_pl_id(name,path_to_file):\n",
    "    df = pd.read_csv(path_to_file)\n",
    "    return int(df[df['Name']==name]['id'])\n",
    "    \n",
    "# CLEANERS\n",
    "def clean_player_stats(stats):\n",
    "    # extract stat names and values from raw html\n",
    "    names_and_values = []\n",
    "    for t in stats:\n",
    "        names_and_values.append(t.text.strip())\n",
    "    \n",
    "    # filter out stat titles such as 'Attack', 'Defence', 'Discipline'\n",
    "    names_and_values = list(filter(lambda x: '\\n' in x,names_and_values))\n",
    "\n",
    "    # split into stat name and value\n",
    "    names_and_values = list(map(lambda x: x.split('\\n'),names_and_values))\n",
    "    \n",
    "    # remove whitespace and convert to dict\n",
    "    stats_dict = {t[0].strip():t[1].strip() for t in names_and_values}\n",
    "\n",
    "    # convert percentage values to a range between [0,1] & get rid of commas in values\n",
    "    for key, val in stats_dict.items():\n",
    "        if '%' in val:\n",
    "            stats_dict[key] = float(float(val.strip('%'))/100)\n",
    "        elif ',' in val:\n",
    "            stats_dict[key] = val.replace(',','')\n",
    "        else:\n",
    "            stats_dict[key] = float(val)\n",
    "    \n",
    "    return stats_dict"
   ]
  },
  {
   "cell_type": "code",
   "execution_count": 3,
   "metadata": {},
   "outputs": [
    {
     "data": {
      "text/plain": [
       "{'Appearances': 201.0,\n",
       " 'Goals': 97.0,\n",
       " 'Wins': 81.0,\n",
       " 'Losses': 73.0,\n",
       " 'Goals per match': 0.48,\n",
       " 'Headed goals': 12.0,\n",
       " 'Goals with right foot': 60.0,\n",
       " 'Goals with left foot': 25.0,\n",
       " 'Penalties scored': 17.0,\n",
       " 'Freekicks scored': 0.0,\n",
       " 'Shots': 423.0,\n",
       " 'Shots on target': 211.0,\n",
       " 'Shooting accuracy %': 0.5,\n",
       " 'Hit woodwork': 13.0,\n",
       " 'Big chances missed': 75.0,\n",
       " 'Assists': 28.0,\n",
       " 'Passes': '2810',\n",
       " 'Passes per match': 13.98,\n",
       " 'Big chances created': 45.0,\n",
       " 'Crosses': 247.0,\n",
       " 'Yellow cards': 20.0,\n",
       " 'Red cards': 3.0,\n",
       " 'Fouls': 172.0,\n",
       " 'Offsides': 182.0,\n",
       " 'Tackles': 119.0,\n",
       " 'Blocked shots': 69.0,\n",
       " 'Interceptions': 59.0,\n",
       " 'Clearances': 80.0,\n",
       " 'Headed Clearance': 54.0}"
      ]
     },
     "execution_count": 3,
     "metadata": {},
     "output_type": "execute_result"
    }
   ],
   "source": [
    "url = \"https://www.premierleague.com/players/{}/player/stats\"\n",
    "clean_player_stats(get_player_stats(url,get_pl_id(\"Jamie Vardy\",r\"C:\\Users\\dillo\\OneDrive - University of Guelph\\DjangoProjects\\dashboard\\src\\static\\dataframes\\pl_players_info.csv\")))"
   ]
  },
  {
   "cell_type": "code",
   "execution_count": 2,
   "metadata": {},
   "outputs": [
    {
     "data": {
      "text/plain": [
       "{'Appearances': 34.0,\n",
       " 'Goals': 2.0,\n",
       " 'Wins': 12.0,\n",
       " 'Losses': 10.0,\n",
       " 'Clean sheets': 10.0,\n",
       " 'Goals conceded': 35.0,\n",
       " 'Tackles': 77.0,\n",
       " 'Tackle success %': 0.6,\n",
       " 'Last man tackles': 0.0,\n",
       " 'Blocked shots': 4.0,\n",
       " 'Interceptions': 40.0,\n",
       " 'Clearances': 71.0,\n",
       " 'Headed Clearance': 26.0,\n",
       " 'Clearances off line': 0.0,\n",
       " 'Recoveries': 188.0,\n",
       " 'Duels won': 174.0,\n",
       " 'Duels lost': 155.0,\n",
       " 'Successful 50/50s': 52.0,\n",
       " 'Aerial battles won': 28.0,\n",
       " 'Aerial battles lost': 25.0,\n",
       " 'Own goals': 0.0,\n",
       " 'Errors leading to goal': 1.0,\n",
       " 'Assists': 2.0,\n",
       " 'Passes': '1202',\n",
       " 'Passes per match': 35.35,\n",
       " 'Big chances created': 8.0,\n",
       " 'Crosses': 100.0,\n",
       " 'Cross accuracy %': 0.22,\n",
       " 'Through balls': 2.0,\n",
       " 'Accurate long balls': 57.0,\n",
       " 'Yellow cards': 6.0,\n",
       " 'Red cards': 0.0,\n",
       " 'Fouls': 37.0,\n",
       " 'Offsides': 2.0,\n",
       " 'Headed goals': 1.0,\n",
       " 'Goals with right foot': 0.0,\n",
       " 'Goals with left foot': 1.0,\n",
       " 'Hit woodwork': 0.0}"
      ]
     },
     "execution_count": 2,
     "metadata": {},
     "output_type": "execute_result"
    }
   ],
   "source": [
    "url = \"https://www.premierleague.com/players/{}/player/stats\"\n",
    "clean_player_page(get_player_page(url,get_pl_id(\"Enda Stevens\",r\"C:\\Users\\dillo\\OneDrive - University of Guelph\\DjangoProjects\\dashboard\\src\\static\\dataframes\\pl_players_info.csv\")))"
   ]
  },
  {
   "cell_type": "code",
   "execution_count": 6,
   "metadata": {},
   "outputs": [
    {
     "data": {
      "text/plain": [
       "{'Appearances': 29.0,\n",
       " 'Clean sheets': 7.0,\n",
       " 'Wins': 17.0,\n",
       " 'Losses': 7.0,\n",
       " 'Saves': 45.0,\n",
       " 'Penalties saved': 1.0,\n",
       " 'Punches': 14.0,\n",
       " 'High Claims': 14.0,\n",
       " 'Catches': 9.0,\n",
       " 'Sweeper clearances': 29.0,\n",
       " 'Throw outs': 125.0,\n",
       " 'Goal Kicks': 159.0,\n",
       " 'Goals conceded': 34.0,\n",
       " 'Errors leading to goal': 1.0,\n",
       " 'Own goals': 0.0,\n",
       " 'Yellow cards': 0.0,\n",
       " 'Red cards': 0.0,\n",
       " 'Fouls': 0.0,\n",
       " 'Goals': 0.0,\n",
       " 'Assists': 0.0,\n",
       " 'Passes': 838.0,\n",
       " 'Passes per match': 28.9,\n",
       " 'Accurate long balls': 133.0}"
      ]
     },
     "execution_count": 6,
     "metadata": {},
     "output_type": "execute_result"
    }
   ],
   "source": [
    "url = \"https://www.premierleague.com/players/{}/player/stats\"\n",
    "clean_player_page(get_player_page(url,get_pl_id(\"Claudio Bravo\",r\"C:\\Users\\dillo\\OneDrive - University of Guelph\\DjangoProjects\\dashboard\\src\\static\\dataframes\\pl_players_info.csv\")))"
   ]
  },
  {
   "cell_type": "code",
   "execution_count": 7,
   "metadata": {},
   "outputs": [
    {
     "data": {
      "text/plain": [
       "{'Appearances': 110.0,\n",
       " 'Goals': 6.0,\n",
       " 'Wins': 47.0,\n",
       " 'Losses': 40.0,\n",
       " 'Goals per match': 0.05,\n",
       " 'Headed goals': 1.0,\n",
       " 'Goals with right foot': 4.0,\n",
       " 'Goals with left foot': 1.0,\n",
       " 'Penalties scored': 0.0,\n",
       " 'Freekicks scored': 0.0,\n",
       " 'Shots': 145.0,\n",
       " 'Shots on target': 24.0,\n",
       " 'Shooting accuracy %': 0.17,\n",
       " 'Hit woodwork': 5.0,\n",
       " 'Big chances missed': 4.0,\n",
       " 'Assists': 5.0,\n",
       " 'Passes': '5447',\n",
       " 'Passes per match': 49.52,\n",
       " 'Big chances created': 3.0,\n",
       " 'Crosses': 25.0,\n",
       " 'Cross accuracy %': 0.04,\n",
       " 'Through balls': 15.0,\n",
       " 'Accurate long balls': 252.0,\n",
       " 'Yellow cards': 17.0,\n",
       " 'Red cards': 2.0,\n",
       " 'Fouls': 162.0,\n",
       " 'Offsides': 5.0,\n",
       " 'Tackles': 436.0,\n",
       " 'Tackle success %': 0.63,\n",
       " 'Blocked shots': 39.0,\n",
       " 'Interceptions': 227.0,\n",
       " 'Clearances': 274.0,\n",
       " 'Headed Clearance': 132.0,\n",
       " 'Recoveries': 918.0,\n",
       " 'Duels won': 966.0,\n",
       " 'Duels lost': 787.0,\n",
       " 'Successful 50/50s': 96.0,\n",
       " 'Aerial battles won': 366.0,\n",
       " 'Aerial battles lost': 303.0,\n",
       " 'Errors leading to goal': 1.0}"
      ]
     },
     "execution_count": 7,
     "metadata": {},
     "output_type": "execute_result"
    }
   ],
   "source": [
    "url = \"https://www.premierleague.com/players/{}/player/stats\"\n",
    "clean_player_page(get_player_page(url,get_pl_id(\"Wilfred Ndidi\",r\"C:\\Users\\dillo\\OneDrive - University of Guelph\\DjangoProjects\\dashboard\\src\\static\\dataframes\\pl_players_info.csv\")))"
   ]
  },
  {
   "cell_type": "code",
   "execution_count": null,
   "metadata": {},
   "outputs": [],
   "source": []
  }
 ],
 "metadata": {
  "kernelspec": {
   "display_name": "Python 3",
   "language": "python",
   "name": "python3"
  },
  "language_info": {
   "codemirror_mode": {
    "name": "ipython",
    "version": 3
   },
   "file_extension": ".py",
   "mimetype": "text/x-python",
   "name": "python",
   "nbconvert_exporter": "python",
   "pygments_lexer": "ipython3",
   "version": "3.8.2"
  }
 },
 "nbformat": 4,
 "nbformat_minor": 4
}
