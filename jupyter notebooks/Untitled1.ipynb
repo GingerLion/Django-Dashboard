{
 "cells": [
  {
   "cell_type": "code",
   "execution_count": 1,
   "metadata": {},
   "outputs": [],
   "source": [
    "import pandas as pd\n",
    "import requests as r\n",
    "import re\n",
    "from bs4 import BeautifulSoup\n",
    "from datetime import datetime as dt\n",
    "from  more_itertools import unique_everseen"
   ]
  },
  {
   "cell_type": "code",
   "execution_count": 2,
   "metadata": {},
   "outputs": [],
   "source": [
    "# bulk create for PlayerInfo\n",
    "def bc_player_info():\n",
    "    # bc_list of PlayerInfo objects\n",
    "    players_list = []\n",
    "    # define urls\n",
    "    base_url = \"https://www.premierleague.com\"\n",
    "    clubs_url = \"https://www.premierleague.com/clubs\"\n",
    "    squad_url = \"https://www.premierleague.com/clubs/{_id}/{name}/squad\"\n",
    "    ##### gather current premier league clubs names and ids #####\n",
    "    response = r.get(clubs_url)\n",
    "    soup = BeautifulSoup(response.content,'html.parser')\n",
    "    clubs_list = soup.find_all(\"a\")\n",
    "    #extract href links because they contain club number\n",
    "    clubs_links = [link['href'] for link in clubs_list]\n",
    "    #narrow down to links that have this regex pattern\n",
    "    clubs = [link for link in clubs_links if re.search('clubs/[0-9]+',link)]\n",
    "    #tidy-up club names\n",
    "    \"\"\"for i in range(len(clubs)):\n",
    "        clubs[i] = clubs[i].replace('-and-','-&-')\n",
    "        clubs[i] = clubs[i].replace('-',' ')\"\"\"\n",
    "    #split link to get club number & club name in tuples\n",
    "    club_and_num = [(i.split(\"/\")[2],i.split(\"/\")[3]) for i in clubs]\n",
    "    ##### get squad list pages by using the club name and ids #####\n",
    "    for num,name in club_and_num:\n",
    "            # get each club's squad list page\n",
    "            _content = r.get(squad_url.format(_id=num,name=name)).content\n",
    "            # create soup\n",
    "            soup = BeautifulSoup(_content, 'html.parser')\n",
    "            # extract overview link\n",
    "            raw_cards = soup.find_all(\"a\",{\"class\":\"playerOverviewCard\"})\n",
    "            ovr_links = [link['href'] for link in raw_cards]\n",
    "            # iterate through the player links (overview) for each team\n",
    "            for link in ovr_links:\n",
    "                # get id from link\n",
    "                _id = int(link.split(\"/\")[2])\n",
    "                try:\n",
    "                    tmp = clean_player_overview(get_player_overview(base_url+link))\n",
    "                    tmp['pl_id'] = _id\n",
    "                    # call getter & cleaner function for the overview page\n",
    "                    players_list.append(tmp)\n",
    "                except:\n",
    "                    pass\n",
    "    return pd.DataFrame.from_dict(players_list,orient='columns')\n",
    "\n",
    "def get_player_overview(url):\n",
    "    _content = r.get(url).content\n",
    "    soup = BeautifulSoup(_content,'html.parser')\n",
    "    return [*soup.find_all(\"div\",{\"class\":\"info\"}),*soup.find_all(\"div\",{\"class\":\"number t-colour\"},limit=1),*soup.find_all(\"div\",{\"class\":\"name t-colour\"},limit=1)]\n",
    "def clean_player_overview(arr):\n",
    "    a = list(unique_everseen([t.text.strip() for t in arr]))\n",
    "    try:\n",
    "        b = [*a[:4],*a[6:]]\n",
    "        # if a[4] is a shirtnumber\n",
    "        if re.search(\"[0-9]+\",b[4]):\n",
    "            return {\"Club\":b[0], \"Role\":b[1][0], \"Country\":b[2], \"Dob\": dt.strptime(b[3].split(\" \")[0],\"%d/%m/%Y\"),\n",
    "                    \"Shirtnum\":int(b[4]), \"Name\":b[5]}\n",
    "        else:\n",
    "            return {\"Club\":b[0], \"Role\":b[1][0], \"Country\":b[2], \"Dob\": dt.strptime(b[3].split(\" \")[0],\"%d/%m/%Y\")\n",
    "               , \"Shirtnum\": 0, \"Name\":b[4]}\n",
    "    except IndexError:\n",
    "        try:\n",
    "            b = [*a[:4],*a[5:]]\n",
    "            if re.search(\"[0-9]+\",b[4]):\n",
    "                #if a[4] is a shirt number.....\n",
    "                return {\"Club\":b[0], \"Role\":b[1][0], \"Country\":b[2], \"Dob\": dt.strptime(b[3].split(\" \")[0],\"%d/%m/%Y\"),\n",
    "                        \"Shirtnum\":int(b[4]), \"Name\":b[5]}\n",
    "            else:\n",
    "                return {\"Club\":b[0], \"Role\":b[1][0], \"Country\":b[2], \"Dob\": dt.strptime(b[3].split(\" \")[0],\"%d/%m/%Y\")\n",
    "                   , \"Shirtnum\": 0, \"Name\":b[4]}\n",
    "        except IndexError:\n",
    "            b = [*a[:4],*[a[4]]]\n",
    "            if re.search(\"[0-9]+\",b[4]):\n",
    "                #if a[4] is a shirt number.....\n",
    "                return {\"Club\":b[0], \"Role\":b[1][0], \"Country\":b[2], \"Dob\": dt.strptime(b[3].split(\" \")[0],\"%d/%m/%Y\"),\n",
    "                        \"Shirtnum\":int(b[4]), \"Name\":b[5]}\n",
    "            else:\n",
    "                return {\"Club\":b[0], \"Role\":b[1][0], \"Country\":b[2], \"Dob\": dt.strptime(b[3].split(\" \")[0],\"%d/%m/%Y\")\n",
    "                   , \"Shirtnum\": 0, \"Name\":b[4]}\n",
    "   "
   ]
  },
  {
   "cell_type": "code",
   "execution_count": 3,
   "metadata": {},
   "outputs": [],
   "source": [
    "df = bc_player_info()"
   ]
  },
  {
   "cell_type": "code",
   "execution_count": 5,
   "metadata": {},
   "outputs": [],
   "source": [
    "df.set_index('pl_id',inplace=True)"
   ]
  },
  {
   "cell_type": "code",
   "execution_count": 10,
   "metadata": {},
   "outputs": [
    {
     "data": {
      "text/html": [
       "<div>\n",
       "<style scoped>\n",
       "    .dataframe tbody tr th:only-of-type {\n",
       "        vertical-align: middle;\n",
       "    }\n",
       "\n",
       "    .dataframe tbody tr th {\n",
       "        vertical-align: top;\n",
       "    }\n",
       "\n",
       "    .dataframe thead th {\n",
       "        text-align: right;\n",
       "    }\n",
       "</style>\n",
       "<table border=\"1\" class=\"dataframe\">\n",
       "  <thead>\n",
       "    <tr style=\"text-align: right;\">\n",
       "      <th></th>\n",
       "      <th>Club</th>\n",
       "      <th>Role</th>\n",
       "      <th>Country</th>\n",
       "      <th>Dob</th>\n",
       "      <th>Shirtnum</th>\n",
       "      <th>Name</th>\n",
       "    </tr>\n",
       "    <tr>\n",
       "      <th>pl_id</th>\n",
       "      <th></th>\n",
       "      <th></th>\n",
       "      <th></th>\n",
       "      <th></th>\n",
       "      <th></th>\n",
       "      <th></th>\n",
       "    </tr>\n",
       "  </thead>\n",
       "  <tbody>\n",
       "    <tr>\n",
       "      <th>25281</th>\n",
       "      <td>Aston Villa</td>\n",
       "      <td>F</td>\n",
       "      <td>England</td>\n",
       "      <td>2001-12-09</td>\n",
       "      <td>0</td>\n",
       "      <td>Cameron Archer</td>\n",
       "    </tr>\n",
       "  </tbody>\n",
       "</table>\n",
       "</div>"
      ],
      "text/plain": [
       "              Club Role  Country        Dob  Shirtnum            Name\n",
       "pl_id                                                                \n",
       "25281  Aston Villa    F  England 2001-12-09         0  Cameron Archer"
      ]
     },
     "execution_count": 10,
     "metadata": {},
     "output_type": "execute_result"
    }
   ],
   "source": [
    "\n",
    "df[df.index==25281]"
   ]
  },
  {
   "cell_type": "code",
   "execution_count": null,
   "metadata": {},
   "outputs": [],
   "source": []
  },
  {
   "cell_type": "code",
   "execution_count": null,
   "metadata": {},
   "outputs": [],
   "source": []
  },
  {
   "cell_type": "code",
   "execution_count": null,
   "metadata": {},
   "outputs": [],
   "source": []
  },
  {
   "cell_type": "code",
   "execution_count": null,
   "metadata": {},
   "outputs": [],
   "source": []
  },
  {
   "cell_type": "code",
   "execution_count": null,
   "metadata": {},
   "outputs": [],
   "source": []
  }
 ],
 "metadata": {
  "kernelspec": {
   "display_name": "Python 3",
   "language": "python",
   "name": "python3"
  },
  "language_info": {
   "codemirror_mode": {
    "name": "ipython",
    "version": 3
   },
   "file_extension": ".py",
   "mimetype": "text/x-python",
   "name": "python",
   "nbconvert_exporter": "python",
   "pygments_lexer": "ipython3",
   "version": "3.8.2"
  }
 },
 "nbformat": 4,
 "nbformat_minor": 4
}
