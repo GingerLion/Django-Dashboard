{
 "cells": [
  {
   "cell_type": "code",
   "execution_count": 1,
   "metadata": {},
   "outputs": [],
   "source": [
    "import pandas as pd\n",
    "import requests as r\n",
    "from bs4 import BeautifulSoup\n",
    "\n",
    "# GETTERS \n",
    "def get_player_page(url,id_no):\n",
    "    soup = BeautifulSoup(r.get(url.format(id_no)).content,'html.parser')\n",
    "    return soup.find_all(\"span\",{\"class\":\"stat\"})\n",
    "\n",
    "def get_pl_id(name,path_to_file):\n",
    "    df = pd.read_csv(path_to_file)\n",
    "    return int(df[df['Name']==name]['id'])\n",
    "    \n",
    "# CLEANERS\n",
    "def clean_player_page(stats):\n",
    "    # extract stat names and values from raw html\n",
    "    names_and_values = []\n",
    "    for t in stats:\n",
    "        names_and_values.append(t.text.strip())\n",
    "    \n",
    "    # filter out stat titles such as 'Attack', 'Defence', 'Discipline'\n",
    "    names_and_values = list(filter(lambda x: '\\n' in x,names_and_values))\n",
    "\n",
    "    # split into stat name and value\n",
    "    names_and_values = list(map(lambda x: x.split('\\n'),names_and_values))\n",
    "    \n",
    "    # remove whitespace and convert to dict\n",
    "    stats_dict = {t[0].strip():t[1].strip() for t in names_and_values}\n",
    "\n",
    "    # convert percentage values to a range between [0,1] & get rid of commas in values\n",
    "    for key, val in stats_dict.items():\n",
    "        if '%' in val:\n",
    "            stats_dict[key] = float(float(val.strip('%'))/100)\n",
    "        elif ',' in val:\n",
    "            stats_dict[key] = val.replace(',','')\n",
    "        else:\n",
    "            stats_dict[key] = float(val)\n",
    "    \n",
    "    return stats_dict"
   ]
  },
  {
   "cell_type": "code",
   "execution_count": 3,
   "metadata": {},
   "outputs": [
    {
     "data": {
      "text/plain": [
       "{'Appearances': 201.0,\n",
       " 'Assists': 28.0,\n",
       " 'Big chances created': 45.0,\n",
       " 'Big chances missed': 75.0,\n",
       " 'Blocked shots': 69.0,\n",
       " 'Clearances': 80.0,\n",
       " 'Crosses': 247.0,\n",
       " 'Fouls': 172.0,\n",
       " 'Freekicks scored': 0.0,\n",
       " 'Goals': 97.0,\n",
       " 'Goals per match': 0.48,\n",
       " 'Goals with left foot': 25.0,\n",
       " 'Goals with right foot': 60.0,\n",
       " 'Headed Clearance': 54.0,\n",
       " 'Headed goals': 12.0,\n",
       " 'Hit woodwork': 13.0,\n",
       " 'Interceptions': 59.0,\n",
       " 'Losses': 73.0,\n",
       " 'Offsides': 182.0,\n",
       " 'Passes': '2810',\n",
       " 'Passes per match': 13.98,\n",
       " 'Penalties scored': 17.0,\n",
       " 'Red cards': 3.0,\n",
       " 'Shooting accuracy %': 0.5,\n",
       " 'Shots': 423.0,\n",
       " 'Shots on target': 211.0,\n",
       " 'Tackles': 119.0,\n",
       " 'Wins': 81.0,\n",
       " 'Yellow cards': 20.0}"
      ]
     },
     "execution_count": 3,
     "metadata": {},
     "output_type": "execute_result"
    }
   ],
   "source": [
    "url = \"https://www.premierleague.com/players/{}/player/stats\"\n",
    "clean_player_page(get_player_page(url,get_pl_id(\"Jamie Vardy\",r\"C:\\Users\\dillo\\OneDrive - University of Guelph\\DjangoProjects\\dashboard\\src\\static\\dataframes\\pl_players_info.csv\")))"
   ]
  },
  {
   "cell_type": "code",
   "execution_count": 4,
   "metadata": {},
   "outputs": [],
   "source": [
    "d = pd.read_csv(r\"C:\\Users\\dillo\\OneDrive - University of Guelph\\DjangoProjects\\dashboard\\src\\static\\dataframes\\pl_players_info.csv\")"
   ]
  },
  {
   "cell_type": "code",
   "execution_count": 10,
   "metadata": {},
   "outputs": [
    {
     "data": {
      "text/html": [
       "<div>\n",
       "<style scoped>\n",
       "    .dataframe tbody tr th:only-of-type {\n",
       "        vertical-align: middle;\n",
       "    }\n",
       "\n",
       "    .dataframe tbody tr th {\n",
       "        vertical-align: top;\n",
       "    }\n",
       "\n",
       "    .dataframe thead th {\n",
       "        text-align: right;\n",
       "    }\n",
       "</style>\n",
       "<table border=\"1\" class=\"dataframe\">\n",
       "  <thead>\n",
       "    <tr style=\"text-align: right;\">\n",
       "      <th></th>\n",
       "      <th>id</th>\n",
       "      <th>Club</th>\n",
       "      <th>Country</th>\n",
       "      <th>Dob</th>\n",
       "      <th>Name</th>\n",
       "      <th>Shirtnum</th>\n",
       "      <th>Role</th>\n",
       "    </tr>\n",
       "  </thead>\n",
       "  <tbody>\n",
       "    <tr>\n",
       "      <th>154</th>\n",
       "      <td>65981</td>\n",
       "      <td>Burnley</td>\n",
       "      <td>England</td>\n",
       "      <td>0</td>\n",
       "      <td>Joel Senior</td>\n",
       "      <td>0</td>\n",
       "      <td>D</td>\n",
       "    </tr>\n",
       "  </tbody>\n",
       "</table>\n",
       "</div>"
      ],
      "text/plain": [
       "        id     Club  Country Dob         Name  Shirtnum Role\n",
       "154  65981  Burnley  England   0  Joel Senior         0    D"
      ]
     },
     "execution_count": 10,
     "metadata": {},
     "output_type": "execute_result"
    }
   ],
   "source": [
    "d[d['Dob']=='0']"
   ]
  },
  {
   "cell_type": "code",
   "execution_count": 9,
   "metadata": {},
   "outputs": [
    {
     "data": {
      "text/plain": [
       "int"
      ]
     },
     "execution_count": 9,
     "metadata": {},
     "output_type": "execute_result"
    }
   ],
   "source": [
    "type(d.index[0])"
   ]
  },
  {
   "cell_type": "code",
   "execution_count": null,
   "metadata": {},
   "outputs": [],
   "source": []
  }
 ],
 "metadata": {
  "kernelspec": {
   "display_name": "Python(my_env)",
   "language": "python",
   "name": "myenv"
  },
  "language_info": {
   "codemirror_mode": {
    "name": "ipython",
    "version": 3
   },
   "file_extension": ".py",
   "mimetype": "text/x-python",
   "name": "python",
   "nbconvert_exporter": "python",
   "pygments_lexer": "ipython3",
   "version": "3.6.4"
  }
 },
 "nbformat": 4,
 "nbformat_minor": 2
}
