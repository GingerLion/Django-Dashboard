{
 "cells": [
  {
   "cell_type": "code",
   "execution_count": 33,
   "metadata": {},
   "outputs": [],
   "source": [
    "import requests as r\n",
    "from bs4 import BeautifulSoup\n",
    "import re"
   ]
  },
  {
   "cell_type": "code",
   "execution_count": 69,
   "metadata": {},
   "outputs": [],
   "source": [
    "page = r.get(\"https://www.premierleague.com/news/1636437\").content\n",
    "soup = BeautifulSoup(page,'html.parser')"
   ]
  },
  {
   "cell_type": "code",
   "execution_count": 70,
   "metadata": {},
   "outputs": [],
   "source": [
    "text = soup.find_all(\"p\")"
   ]
  },
  {
   "cell_type": "code",
   "execution_count": 71,
   "metadata": {},
   "outputs": [],
   "source": [
    "text_ = []"
   ]
  },
  {
   "cell_type": "code",
   "execution_count": 53,
   "metadata": {},
   "outputs": [
    {
     "data": {
      "text/plain": [
       "['Related Articles',\n",
       " 'The Scout is selecting four overlooked players who could be set for a breakout Gameweek 30 in Fantasy Premier League.',\n",
       " 'The Watford forward is owned by just two per cent of managers ahead of a home encounter with Leicester City.',\n",
       " 'Deeney’s season in FPL has been transformed since Nigel Pearson was appointed head coach in Gameweek 17.',\n",
       " 'All six of his goals and both his assists in 2019/20 have come from that point onwards.',\n",
       " 'That has helped him average 4.7 points per match under Pearson.',\n",
       " 'The underlying numbers show why Deeney has been such a big success.',\n",
       " 'His 28 shots and 25 shots in the box are both team-leading totals for the Hornets from Gameweek 17.',\n",
       " 'Meanwhile, his 15 shots on target and 11 big chances rank fourth and fifth respectively among all players in that period.',\n",
       " 'At Vicarage Road, in particular, Deeney has been an explosive source of points.',\n",
       " 'He has claimed double-figure hauls against Aston Villa and Liverpool in his last five home outings.\\xa0',\n",
       " 'Leicester visit on Saturday having lost three and drawn two of their last seven matches in all competitions.',\n",
       " 'Deeney can seize upon the Foxes’ vulnerabilities in defence to bring in another haul in Gameweek 30.']"
      ]
     },
     "execution_count": 53,
     "metadata": {},
     "output_type": "execute_result"
    }
   ],
   "source": [
    "[i.text for i in text if not re.search('^\\\\n',i.text) and 'Differentials' not in i.text]"
   ]
  },
  {
   "cell_type": "code",
   "execution_count": 58,
   "metadata": {},
   "outputs": [
    {
     "data": {
      "text/plain": [
       "['Related Articles',\n",
       " 'The Scout is tipping five players to produce big points in Gameweek 30 of Fantasy Premier League.',\n",
       " 'The Norwich City striker can bounce back from a disappointing run of returns at home to Southampton this weekend.',\n",
       " 'Pukki has frustrated his 12.8 per cent ownership with five successive Gameweek blanks.',\n",
       " 'But Saints’ poor performances on the road suggest the Finn can get back among the goals.',\n",
       " 'Ralph Hasenhuttl’s side have lost their last three away matches in all competitions, conceding at least three goals on each occasion.',\n",
       " 'Norwich, meanwhile, have improved their form at Carrow Road.',\n",
       " 'They have won two and drawn two of their previous five home matches, with their only defeat in that run coming against leaders Liverpool.',\n",
       " 'At home, in particular, Pukki’s contribution has been vital to Daniel Farke’s side.',\n",
       " 'He has scored seven of his 11 goals this season at Carrow Road, while also supplying two of his three assists there.',\n",
       " 'The underlying statistics highlight his influence.',\n",
       " 'At home, his 37 shots and 30 shots inside the penalty area are both team-leading totals.',\n",
       " 'Indeed, his 20 shots on target in home matches are second only to the 29 of Mohamed Salah (£12.7m) among all players in 2019/20 FPL.',\n",
       " 'Pukki has already been successful against Southampton this season, scoring and earning eight points in Gameweek 15.',\n",
       " 'He can repeat that feat and help fire Norwich to a much-needed victory in their battle against relegation on Saturday.',\n",
       " 'Tomorrow: GW30 Ones to watch: Anthony Martial']"
      ]
     },
     "execution_count": 58,
     "metadata": {},
     "output_type": "execute_result"
    }
   ],
   "source": [
    "[i.text for i in text if not re.search('^\\\\n',i.text) and 'Part 1:' not in i.text]"
   ]
  },
  {
   "cell_type": "code",
   "execution_count": 62,
   "metadata": {
    "scrolled": true
   },
   "outputs": [
    {
     "data": {
      "text/plain": [
       "['Related Articles',\n",
       " 'If he scores on Sunday, Dele Alli will achieve a goalscoring feat against Manchester United that no Tottenham Hotspur\\xa0player has managed in seven years.',\n",
       " \"After his strike at Old Trafford in December, Alli can emulate\\xa0Clint Dempsey's accomplishment in 2012/13.\",\n",
       " 'For more on this and all the must-know facts for Matchweek 30, read below. To see the head-to-head records and key data for the matches, click on the fixtures.',\n",
       " 'Watford have won their last three Premier League home matches against Leicester City, with 2-1 being the final scoreline on each occasion.',\n",
       " 'Crystal Palace are aiming to complete a league double over AFC Bournemouth for only the third time, previously doing so back in 1935/36 and 1987/88. This is the 37th season in which they have met.',\n",
       " 'Brighton & Hove Albion are unbeaten in their last four Premier League meetings with\\xa0Arsenal since losing the first back in October 2017. The Seagulls are also undefeated in their three matches at home this season versus ever-present sides (W2 D1).',\n",
       " 'Burnley can become just the fourth team to win away at both Manchester clubs in a season after Liverpool (2008/09), Middlesbrough (2003/04) and Everton (1992/93).',\n",
       " 'Sheffield United have let in just 12 away goals in the Premier League this season. Only Liverpool, with nine, have a better record and the Blades are the only team yet to concede more than twice in a match on the road in 2019/20.',\n",
       " 'Southampton have won their last six matches against promoted sides, their longest winning run against such teams in the Premier League.',\n",
       " 'Aston Villa goalkeeper Pepe Reina has kept a clean sheet in 40 per cent of his 15 Premier League matches against Chelsea. Only Nigel Martyn has a higher ratio, with 42 per cent, for keepers who have faced the Blues at least 15 times.',\n",
       " 'Wolverhampton Wanderers are unbeaten in their last nine Premier League matches in London, winning four and drawing five since a 5-0 defeat at Fulham in March 2012.',\n",
       " 'Dele Alli can become the first Spurs player since Clint Dempsey in 2012/13 to score home and away against Man Utd in the same season.',\n",
       " \"Divock Origi scored twice against Everton in December's 5-2 win at Anfield. The last Liverpool player to net at least twice in both Merseyside league derbies in a season was Dick Forshaw in 1925/26.\"]"
      ]
     },
     "execution_count": 62,
     "metadata": {},
     "output_type": "execute_result"
    }
   ],
   "source": [
    "[i.text for i in text if not re.search('^\\\\n',i.text) and 'Part 1:' not in i.text]"
   ]
  },
  {
   "cell_type": "code",
   "execution_count": 68,
   "metadata": {},
   "outputs": [
    {
     "data": {
      "text/plain": [
       "['Ahead of the 11:30 GMT deadline on Saturday, 14 March, The Scout provides\\xa0Fantasy Premier League\\xa0managers with everything they need to know for Gameweek 30.',\n",
       " 'Friday: A look at the important late decisions facing FPL managers in the wake of injury updates.',\n",
       " 'Friday: The best XI players are picked in a team using a budget of £83.0m.',\n",
       " 'Thursday: Analysis of who should carry your armband.',\n",
       " 'Five standout players are tipped to produce big points.',\n",
       " 'Four low-owned players who could be set for a breakout Gameweek.',\n",
       " 'Salah boost for De Bruyne armband backers\\xa0']"
      ]
     },
     "execution_count": 68,
     "metadata": {},
     "output_type": "execute_result"
    }
   ],
   "source": [
    "[i.text for i in text if not re.search('^\\\\n',i.text) and 'GW' not in i.text and 'Tomorrow:' not in i.text and 'Related Articles' not in i.text]"
   ]
  },
  {
   "cell_type": "code",
   "execution_count": 72,
   "metadata": {},
   "outputs": [
    {
     "data": {
      "text/plain": [
       "['Schoolchildren across England and Wales are getting creative for the third edition of the Premier League Writing Stars poetry competition.',\n",
       " 'Writing Stars, which this year is based on the theme of ambition, encourages youngsters to dream big for themselves as they produce\\xa0poetry, a rap or lyrics.',\n",
       " 'And to help inspire them, celebrities from the worlds of entertainment, television and sport have used their own experiences of aiming high and showing resilience to write poems of their own.',\n",
       " 'Can your school do better? All poems must be submitted by post or through\\xa0www.PLPrimaryStars.com\\xa0by the closing date of Friday 20 March 2020 to be considered.',\n",
       " 'Here is my effort for this year’s #PLPrimaryStars poetry competition on “Ambition”.Thanks to @IanWright0 for moral support and artistic direction! Get your primary school involved at: https://t.co/0jZ2VtYa1F @premierleague #PLWritingStars pic.twitter.com/3d7pEb7LN7',\n",
       " 'My #PLPrimarystars poetry skills are back.... this time we’re talking “Ambition”  @premierleague @PLCommunities 📝⚽️Enter ➡️ https://t.co/0era1w6cps pic.twitter.com/ZjRVOOWVyk',\n",
       " 'Ok folks it’s that time of year when the @premierleague #PLWritingStars are calling on all you poets to get your creative juices flowing and this year the subject is ‘Ambition’. Here is my attempt.....now it’s over to you @TheRealKirstyG 🤓 pic.twitter.com/iBQ04pgVtu',\n",
       " \"Okay everyone the good people of @premierleague are asking us all to write a poem on the subject of AMBITION for this year's ace #PLWritingStars showcase ... am sure you can do better than mine @Rylan pic.twitter.com/4HYev5VQxo\",\n",
       " 'So. It’s #PLPrimaryStars poetry time!! The theme is ambition. Here is my effort, in my dressing room at @btsport.You’ll be delighted to know that #NoComfyChair makes an appearance 😂😂 pic.twitter.com/E757jw6QSo',\n",
       " 'Hello! Premier League writing stars is back! Go to the PL website to find out how to enter, but here’s my offering to encourage you by setting a very low bar 😂\\u2066@PLCommunities\\u2069 \\u2066@premierleague\\u2069 (Also preempting the arsey comments: I don’t care 😎. It’s not about you) pic.twitter.com/xx6H8XrxN6',\n",
       " 'Hideously over-dressed but here is my effort for the #PLWritingStars competition this year. Fancy writing your own poem about AMBITION?Find out more at https://t.co/M0ZL5GEjXi @PLCommunities @premierleague Over to you @LittleMix 👍🏻 pic.twitter.com/wOQUtpUeZh',\n",
       " 'Calling all primary schools! I’ve had my arm twisted to write a poem on Ambition - now it’s your turn to get involved in @premierleague Writing Stars. pic.twitter.com/G10qwpPtI5',\n",
       " 'It’s poetry time again!!!Here’s my #PLPrimarystars poetry competition attempt on the subject of Ambition.Extra marks for baby jiggling whilst reciting?! 😬🙋🏼\\u200d♀️👼🏼Get your primary school involved at: ➡️ https://t.co/qyb4a5AclF ⬅️@premierleague @PLCommunities ⚽️🌟 pic.twitter.com/JyTilzXvAR',\n",
       " 'The @premierleague #PLWritingStars are calling on all you writers and poets out there to get your creative juices flowing and this year the subject is ‘Ambition’. So here is my little ditty! What do you say @petercrouch? 🕺🏻#dance #strictly #premierleague #poem pic.twitter.com/Vrull2kXKs',\n",
       " 'Here’s my #PLPrimarystars poem on ‘Ambition’ - now it’s your turn!Get your Primary School involved at https://t.co/3CRWoKN10n@premierleague @PLCommunities @Wolves @wwfcfoundation @stokecity @QPR @OfficialBWFC pic.twitter.com/ryao6EFVtN',\n",
       " 'Belatedly, here my #PLWritingstars attempt! Was asked to write poem on ambition (Pickle wrote it, so all complaints need to be addressed to her unless they’re about my lack of make up & effort) Have a go! More @PLCommunities @premierleague @AlastairBe pic.twitter.com/Vkw7mv4OHS',\n",
       " 'Not my usual twitter offering, but all for a good cause 😊! @PLCommunities’ #PLPrimaryStars is back, & the theme is ambition. Here’s my poem 😬. Over to you (especially @willperrytv, having heckled me during filming 🤦🏼\\u200d♀️) Visit https://t.co/qTkseubKDm 🖊 #PLWritingStars @AlastairBe pic.twitter.com/cvxH2hrpOv',\n",
       " 'To all Primary Schools, here’s my poem on ambition, now it’s your turn. It’s all part of @premierleague Writing Stars - go to https://t.co/EdPvLxL2FA for more info - I nominate PL ambassador @RanveerOfficial next! #PLWritingStars @PLCommunities pic.twitter.com/66m3QcQ5Xi',\n",
       " \"Here's my entry for this year's Premier League Writing Stars 📝The theme for this year's poems is Ambition.Schools - entries are open until March 20Get involved! #PLWritingStars https://t.co/e43GDKRTXa pic.twitter.com/NU3ihR1Rsh\",\n",
       " 'So it’s that time of year again when the @premierleague #PLWritingStars are asking us all to get creative. Here is my attempt on this years subject “Ambition”.Get your primary school involved at: https://t.co/smxmp4O7gN pic.twitter.com/2EYx4WYrTH',\n",
       " 'Here’s my poem on ‘Ambition’, now it’s your turn! Primary schools, get involved in @premierleague Writing Stars now! Head to https://t.co/WBN1On81Im #PLWritingstars . @PLCommunities pic.twitter.com/3EsI4Lnie6',\n",
       " \"Here's my poem on 'Ambition' for this year's #PLWritingStars poetry competition. Thanks to Danielle and the team @_ukactive for helping me.Get your primary school involved at: https://t.co/mEH45MG6xo @premierleague @PLCommunities pic.twitter.com/2CyYii0bAx\",\n",
       " \"Calling all primary schools! Here's my poem on ambition, 'Take A Punt' - now it’s your turn! Get scribbling for tge @premierleague Writing Stars competition! Head to https://t.co/OgWkBU2Yp0 for more information #PLWritingStars @PLCommunities Can't wait to see yours @AlexScott pic.twitter.com/F4hGF2ssbk\",\n",
       " 'It\\'s time for Premier League Writing (ooops) Stars again! Can you write a short poem, haiku or rap on \"Ambition\" for the @premierleague? Details: https://t.co/cjLTmPUmGkThis is my attempt (hopefully) to encourage you to give it a go! @PLCommunities @AlastairBe📝#PLWritingStars pic.twitter.com/jxFvMQXpmN',\n",
       " 'Calling all Primary Schools, Premier League writing stars is back! Here’s my attempt at a poem on \\u2066ambition now it’s your turn to have a go. Get involved \\u2066@premierleague\\u2069 Writing Stars now! Go to https://t.co/LSXpDlNwPu for more info #PLWritingStars #PLCommunities pic.twitter.com/rZHEpTFhWx',\n",
       " 'Our entry for the \\u2066@premierleague\\u2069 Primary Stars - me with dog Bluey. She asks kids of all ages to join in. #PLWritingStars. pic.twitter.com/wG7Bg8rG8Q',\n",
       " \"Calling all primary schools! Here's local bard @benlyt and my entry in the @premierleague #PLWritingStars annual poetry competition. This year's theme is AMBITION. Now it's your turn to get involved! https://t.co/nE4bXKOm2o @BenShires @RachelRileyRR @Bobby_Seagull pic.twitter.com/iTaCuJv8Cc\",\n",
       " 'Ok you #PLWritingStars lot. This years poem I was asked to write is on the subject of AMBITION. Here it is. Now get writing something a lot better! \\u2066@premierleague\\u2069 \\u2066@PLCommunities\\u2069 \\u2066@AlastairBe\\u2069 pic.twitter.com/itZkaQXxVW',\n",
       " '\\xa0',\n",
       " '\\xa0',\n",
       " '\\xa0']"
      ]
     },
     "execution_count": 72,
     "metadata": {},
     "output_type": "execute_result"
    }
   ],
   "source": [
    "[i.text for i in text if not re.search('^\\\\n',i.text) and 'GW' not in i.text and 'Tomorrow:' not in i.text and 'Related Articles' not in i.text]"
   ]
  },
  {
   "cell_type": "code",
   "execution_count": null,
   "metadata": {},
   "outputs": [],
   "source": []
  }
 ],
 "metadata": {
  "kernelspec": {
   "display_name": "Python 3",
   "language": "python",
   "name": "python3"
  },
  "language_info": {
   "codemirror_mode": {
    "name": "ipython",
    "version": 3
   },
   "file_extension": ".py",
   "mimetype": "text/x-python",
   "name": "python",
   "nbconvert_exporter": "python",
   "pygments_lexer": "ipython3",
   "version": "3.8.2"
  }
 },
 "nbformat": 4,
 "nbformat_minor": 4
}
